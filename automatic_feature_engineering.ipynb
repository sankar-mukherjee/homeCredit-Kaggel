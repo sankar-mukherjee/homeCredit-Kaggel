{
 "cells": [
  {
   "cell_type": "markdown",
   "metadata": {},
   "source": [
    "# Automated Feature Engineering Basics with featureTools"
   ]
  },
  {
   "cell_type": "markdown",
   "metadata": {},
   "source": [
    "# feature types \n",
    "\n",
    "\n",
    "* Time Variables: allow us to track trends over time \n",
    "* Interesting Variables: condition new features on values of existing features\n",
    "* Seed Features: define new features manually that featuretools will then build on top of\n",
    "* Custom feature primitives: design any transformation or aggregation feature that can incorporate domain knowledge\n",
    "\n",
    "We can use these methods to encode domain knowledge about a problem into our features or create features based on what others have found useful. The next step from here would be to run the script on the entire dataset, then use the features for modeling. We could use the feature importances from the model to determine the most relevant features, perform feature selection, and then go through another round of feature synthesis with a new set of of primitives, seed features, and interesting features. As with many aspects of machine learning, feature creation is largely an empirical and iterative procedure. "
   ]
  },
  {
   "cell_type": "code",
   "execution_count": null,
   "metadata": {},
   "outputs": [],
   "source": []
  },
  {
   "cell_type": "code",
   "execution_count": null,
   "metadata": {},
   "outputs": [],
   "source": []
  },
  {
   "cell_type": "code",
   "execution_count": 1,
   "metadata": {},
   "outputs": [],
   "source": [
    "# pandas and numpy for data manipulation\n",
    "import pandas as pd\n",
    "import numpy as np\n",
    "\n",
    "# automated feature engineering\n",
    "import featuretools as ft\n",
    "\n",
    "# Filter out pandas warnings\n",
    "import warnings \n",
    "warnings.filterwarnings('ignore')\n",
    "\n",
    "\n",
    "import matplotlib.pyplot as plt\n",
    "import seaborn as sns\n",
    "# Set up default plot styles\n",
    "plt.rcParams['font.size'] = 26\n",
    "plt.style.use('fivethirtyeight')"
   ]
  },
  {
   "cell_type": "markdown",
   "metadata": {},
   "source": [
    "# Read in Data and Create Small Datasets"
   ]
  },
  {
   "cell_type": "code",
   "execution_count": 2,
   "metadata": {},
   "outputs": [],
   "source": [
    "# Read in the datasets and limit to the first 1000 rows (sorted by SK_ID_CURR) \n",
    "# This allows us to actually see the results in a reasonable amount of time! \n",
    "app_train = pd.read_csv('../input/application_train.csv').sort_values('SK_ID_CURR').reset_index().loc[:1000, :].drop(columns = ['index'])\n",
    "app_test = pd.read_csv('../input/application_test.csv').sort_values('SK_ID_CURR').reset_index().loc[:1000, :].drop(columns = ['index'])\n",
    "bureau = pd.read_csv('../input/bureau.csv').sort_values(['SK_ID_CURR', 'SK_ID_BUREAU']).reset_index().loc[:1000, :].drop(columns = ['index'])\n",
    "bureau_balance = pd.read_csv('../input/bureau_balance.csv').sort_values('SK_ID_BUREAU').reset_index().loc[:1000, :].drop(columns = ['index'])\n",
    "cash = pd.read_csv('../input/POS_CASH_balance.csv').sort_values(['SK_ID_CURR', 'SK_ID_PREV']).reset_index().loc[:1000, :].drop(columns = ['index'])\n",
    "credit = pd.read_csv('../input/credit_card_balance.csv').sort_values(['SK_ID_CURR', 'SK_ID_PREV']).reset_index().loc[:1000, :].drop(columns = ['index'])\n",
    "previous = pd.read_csv('../input/previous_application.csv').sort_values(['SK_ID_CURR', 'SK_ID_PREV']).reset_index().loc[:1000, :].drop(columns = ['index'])\n",
    "installments = pd.read_csv('../input/installments_payments.csv').sort_values(['SK_ID_CURR', 'SK_ID_PREV']).reset_index().loc[:1000, :].drop(columns = ['index'])"
   ]
  },
  {
   "cell_type": "markdown",
   "metadata": {},
   "source": [
    "# Properly Representing Variable Types\n",
    "\n",
    "There are a number of columns in the `app` dataframe that are represented as integers but are really discrete variables that can only take on a limited number of features. Some of these are Boolean flags (only 1 or 0) and two columns are ordinal (ordered discrete). To tell featuretools to treat these as Boolean variables, we need to pass in the correct datatype using a dictionary mapping {`variable_name`: `variable_type`}. "
   ]
  },
  {
   "cell_type": "code",
   "execution_count": 3,
   "metadata": {},
   "outputs": [
    {
     "name": "stdout",
     "output_type": "stream",
     "text": [
      "Number of boolean variables:  33\n"
     ]
    }
   ],
   "source": [
    "app_types = {}\n",
    "\n",
    "# Iterate through the columns and record the Boolean columns\n",
    "for col in app_train:\n",
    "    # If column is a number with only two values, encode it as a Boolean\n",
    "    if (app_train[col].dtype != 'object') and (len(app_train[col].unique()) <= 2):\n",
    "        app_types[col] = ft.variable_types.Boolean\n",
    "\n",
    "print('Number of boolean variables: ', len(app_types))"
   ]
  },
  {
   "cell_type": "markdown",
   "metadata": {},
   "source": [
    "There are also two ordinal variables in the `app` data: the rating of the region with and without the city. "
   ]
  },
  {
   "cell_type": "code",
   "execution_count": 4,
   "metadata": {},
   "outputs": [],
   "source": [
    "# Record ordinal variables\n",
    "app_types['REGION_RATING_CLIENT'] = ft.variable_types.Ordinal\n",
    "app_types['REGION_RATING_CLIENT_W_CITY'] = ft.variable_types.Ordinal\n",
    "\n",
    "app_test_types = app_types.copy()\n",
    "del app_test_types['TARGET']\n",
    "\n",
    "# Record boolean variables in the previous data\n",
    "previous_types= {'NFLAG_LAST_APPL_IN_DAY': ft.variable_types.Boolean,\n",
    "                 'NFLAG_INSURED_ON_APPROVAL': ft.variable_types.Boolean}"
   ]
  },
  {
   "cell_type": "markdown",
   "metadata": {},
   "source": [
    "# Time Variables\n",
    "\n",
    "Time can be a crucial factor in many datasets because behaviors change over time and therefore we want to make features to reflect this. For example, a client might be taking out larger and larger loans over time which could be an indicator that they are about to default or they could have a run of missed payments but then get back on track.\n",
    "\n",
    "There are no explicit datetimes in the data, but there are relative time offsets. All the time offset are measured from the current application at Home Credit and are measured in months or days. For example, in `bureau`, the `DAYS_CREDIT` column represents \"How many days before current application did client apply for Credit Bureau credit\". (Credit Bureau refers to any other credit organization besides Home Credit). Although we do not know the actual application date, if we assume a starting application date that is the same for all clients, then we can convert the `MONTHS_BALANCE` into a datetime. This can then be treated as a relative time that we can use to find trends or identify the most recent value of a variable. "
   ]
  },
  {
   "cell_type": "code",
   "execution_count": 5,
   "metadata": {},
   "outputs": [],
   "source": [
    "def replace_day_outliers(df):\n",
    "    \"\"\"Replace 365243 with np.nan in any columns with DAYS\"\"\"\n",
    "    for col in df.columns:\n",
    "        if \"DAYS\" in col:\n",
    "            df[col] = df[col].replace({365243: np.nan})\n",
    "\n",
    "    return df\n",
    "\n",
    "# Replace all the day outliers\n",
    "app_train = replace_day_outliers(app_train)\n",
    "app_test = replace_day_outliers(app_test)\n",
    "bureau = replace_day_outliers(bureau)\n",
    "bureau_balance = replace_day_outliers(bureau_balance)\n",
    "credit = replace_day_outliers(credit)\n",
    "cash = replace_day_outliers(cash)\n",
    "previous = replace_day_outliers(previous)\n",
    "installments = replace_day_outliers(installments)"
   ]
  },
  {
   "cell_type": "code",
   "execution_count": 6,
   "metadata": {},
   "outputs": [
    {
     "data": {
      "text/plain": [
       "Timestamp('2016-01-01 00:00:00')"
      ]
     },
     "execution_count": 6,
     "metadata": {},
     "output_type": "execute_result"
    }
   ],
   "source": [
    "# Establish a starting date for all applications at Home Credit\n",
    "start_date = pd.Timestamp(\"2016-01-01\")\n",
    "start_date"
   ]
  },
  {
   "cell_type": "code",
   "execution_count": 7,
   "metadata": {},
   "outputs": [
    {
     "data": {
      "text/html": [
       "<div>\n",
       "<style scoped>\n",
       "    .dataframe tbody tr th:only-of-type {\n",
       "        vertical-align: middle;\n",
       "    }\n",
       "\n",
       "    .dataframe tbody tr th {\n",
       "        vertical-align: top;\n",
       "    }\n",
       "\n",
       "    .dataframe thead th {\n",
       "        text-align: right;\n",
       "    }\n",
       "</style>\n",
       "<table border=\"1\" class=\"dataframe\">\n",
       "  <thead>\n",
       "    <tr style=\"text-align: right;\">\n",
       "      <th></th>\n",
       "      <th>DAYS_CREDIT</th>\n",
       "      <th>DAYS_CREDIT_ENDDATE</th>\n",
       "      <th>DAYS_ENDDATE_FACT</th>\n",
       "      <th>DAYS_CREDIT_UPDATE</th>\n",
       "    </tr>\n",
       "  </thead>\n",
       "  <tbody>\n",
       "    <tr>\n",
       "      <th>0</th>\n",
       "      <td>-857 days</td>\n",
       "      <td>-492 days</td>\n",
       "      <td>-553 days</td>\n",
       "      <td>-155 days</td>\n",
       "    </tr>\n",
       "    <tr>\n",
       "      <th>1</th>\n",
       "      <td>-909 days</td>\n",
       "      <td>-179 days</td>\n",
       "      <td>-877 days</td>\n",
       "      <td>-155 days</td>\n",
       "    </tr>\n",
       "    <tr>\n",
       "      <th>2</th>\n",
       "      <td>-879 days</td>\n",
       "      <td>-514 days</td>\n",
       "      <td>-544 days</td>\n",
       "      <td>-155 days</td>\n",
       "    </tr>\n",
       "    <tr>\n",
       "      <th>3</th>\n",
       "      <td>-1572 days</td>\n",
       "      <td>-1329 days</td>\n",
       "      <td>-1328 days</td>\n",
       "      <td>-155 days</td>\n",
       "    </tr>\n",
       "    <tr>\n",
       "      <th>4</th>\n",
       "      <td>-559 days</td>\n",
       "      <td>902 days</td>\n",
       "      <td>NaT</td>\n",
       "      <td>-6 days</td>\n",
       "    </tr>\n",
       "  </tbody>\n",
       "</table>\n",
       "</div>"
      ],
      "text/plain": [
       "  DAYS_CREDIT DAYS_CREDIT_ENDDATE DAYS_ENDDATE_FACT DAYS_CREDIT_UPDATE\n",
       "0   -857 days           -492 days         -553 days          -155 days\n",
       "1   -909 days           -179 days         -877 days          -155 days\n",
       "2   -879 days           -514 days         -544 days          -155 days\n",
       "3  -1572 days          -1329 days        -1328 days          -155 days\n",
       "4   -559 days            902 days               NaT            -6 days"
      ]
     },
     "execution_count": 7,
     "metadata": {},
     "output_type": "execute_result"
    }
   ],
   "source": [
    "# Convert to timedelta in days\n",
    "for col in ['DAYS_CREDIT', 'DAYS_CREDIT_ENDDATE', 'DAYS_ENDDATE_FACT', 'DAYS_CREDIT_UPDATE']:\n",
    "    bureau[col] = pd.to_timedelta(bureau[col], 'D')\n",
    "    \n",
    "bureau[['DAYS_CREDIT', 'DAYS_CREDIT_ENDDATE', 'DAYS_ENDDATE_FACT', 'DAYS_CREDIT_UPDATE']].head()\n"
   ]
  },
  {
   "cell_type": "markdown",
   "metadata": {},
   "source": [
    " These four columns represent different offsets:\n",
    "\n",
    "* `DAYS_CREDIT`: Number of days before current application at Home Credit client applied for loan at other financial institution. We will call this the application date, `bureau_credit_application_date` and make it the `time_index` of the entity. \n",
    "* `DAYS_CREDIT_ENDDATE`: Number of days of credit remaining at time of client's application at Home Credit. We will call this the ending date, `bureau_credit_end_date`\n",
    "* `DAYS_ENDDATE_FACT`: For closed credits, the number of days before current application at Home Credit that credit at other financial institution ended. We will call this the closing date, `bureau_credit_close_date`. \n",
    "* `DAYS_CREDIT_UPDATE`: Number of days before current application at Home Credit that the most recent information about the previous credit arrived. We will call this the update date, `bureau_credit_update_date`. \n",
    "\n",
    "If we were doing manual feature engineering, we might want to create new columns such as by subtracting `DAYS_CREDIT_ENDDATE` from `DAYS_CREDIT` to get the planned length of the loan in days, or subtracting `DAYS_CREDIT_ENDDATE` from `DAYS_ENDDATE_FACT` to find the number of days the client paid off the loan early. However, in this notebook we will not make any features by hand, but rather let featuretools develop useful features for us.\n",
    "\n",
    "To make date columns from the `timedelta`, we simply add the offset to the start date. "
   ]
  },
  {
   "cell_type": "code",
   "execution_count": 8,
   "metadata": {},
   "outputs": [],
   "source": [
    "# Create the date columns\n",
    "bureau['bureau_credit_application_date'] = start_date + bureau['DAYS_CREDIT']\n",
    "bureau['bureau_credit_end_date'] = start_date + bureau['DAYS_CREDIT_ENDDATE']\n",
    "bureau['bureau_credit_close_date'] = start_date + bureau['DAYS_ENDDATE_FACT']\n",
    "bureau['bureau_credit_update_date'] = start_date + bureau['DAYS_CREDIT_UPDATE']"
   ]
  },
  {
   "cell_type": "markdown",
   "metadata": {},
   "source": [
    "#### Bureau Balance\n",
    "\n",
    "The bureau balance dataframe has a `MONTHS_BALANCE` column that we can use as a months offset. The resulting column of dates can be used as a `time_index`."
   ]
  },
  {
   "cell_type": "code",
   "execution_count": 9,
   "metadata": {},
   "outputs": [
    {
     "data": {
      "image/png": "[encoded data removed]",
      "text/plain": [
       "<Figure size 432x288 with 1 Axes>"
      ]
     },
     "metadata": {},
     "output_type": "display_data"
    }
   ],
   "source": [
    "# Convert to timedelta\n",
    "bureau_balance['MONTHS_BALANCE'] = pd.to_timedelta(bureau_balance['MONTHS_BALANCE'], 'M')\n",
    "\n",
    "# Make a date column\n",
    "bureau_balance['bureau_balance_date'] = start_date + bureau_balance['MONTHS_BALANCE']\n",
    "bureau_balance = bureau_balance.drop(columns = ['MONTHS_BALANCE'])\n",
    "\n",
    "# Select one loan and plot\n",
    "example_credit = bureau_balance[bureau_balance['SK_ID_BUREAU'] == 5001709]\n",
    "plt.plot(example_credit['bureau_balance_date'], example_credit['STATUS'], 'ro');\n",
    "plt.title('Loan 5001709 over Time'); plt.xlabel('Date'); plt.ylabel('Status');"
   ]
  },
  {
   "cell_type": "code",
   "execution_count": null,
   "metadata": {},
   "outputs": [],
   "source": []
  },
  {
   "cell_type": "code",
   "execution_count": 10,
   "metadata": {},
   "outputs": [
    {
     "data": {
      "image/png": "[encoded data removed]",
      "text/plain": [
       "<Figure size 576x432 with 1 Axes>"
      ]
     },
     "metadata": {},
     "output_type": "display_data"
    }
   ],
   "source": [
    "# Convert to timedeltas in days\n",
    "for col in ['DAYS_DECISION', 'DAYS_FIRST_DRAWING', 'DAYS_FIRST_DUE', 'DAYS_LAST_DUE_1ST_VERSION', 'DAYS_LAST_DUE', 'DAYS_TERMINATION']:\n",
    "    previous[col] = pd.to_timedelta(previous[col], 'D')\n",
    "    \n",
    "# Make date columns\n",
    "previous['previous_decision_date'] = start_date + previous['DAYS_DECISION']\n",
    "previous['previous_drawing_date'] = start_date + previous['DAYS_FIRST_DRAWING']\n",
    "previous['previous_first_due_date'] = start_date + previous['DAYS_FIRST_DUE']\n",
    "previous['previous_last_duefirst_date'] = start_date + previous['DAYS_LAST_DUE_1ST_VERSION']\n",
    "previous['previous_last_due_date'] = start_date + previous['DAYS_LAST_DUE']\n",
    "previous['previous_termination_date'] = start_date + previous['DAYS_TERMINATION']\n",
    "\n",
    "# Drop the time offset columns\n",
    "previous = previous.drop(columns = ['DAYS_DECISION', 'DAYS_FIRST_DRAWING', 'DAYS_FIRST_DUE', 'DAYS_LAST_DUE_1ST_VERSION', 'DAYS_LAST_DUE', 'DAYS_TERMINATION'])\n",
    "\n",
    "plt.figure(figsize = (8, 6))\n",
    "example_client = previous[previous['SK_ID_CURR'] == 100007]\n",
    "plt.plot(example_client['previous_decision_date'], example_client['AMT_CREDIT'], 'ro')\n",
    "plt.title('Client 100007 Previous Loan Amounts'); plt.xlabel('Date'); plt.ylabel('Credit Amount');"
   ]
  },
  {
   "cell_type": "code",
   "execution_count": null,
   "metadata": {},
   "outputs": [],
   "source": []
  },
  {
   "cell_type": "code",
   "execution_count": 11,
   "metadata": {},
   "outputs": [
    {
     "data": {
      "image/png": "[encoded data removed]",
      "text/plain": [
       "<Figure size 432x288 with 1 Axes>"
      ]
     },
     "metadata": {},
     "output_type": "display_data"
    }
   ],
   "source": [
    "# Convert to timedelta objects\n",
    "credit['MONTHS_BALANCE'] = pd.to_timedelta(credit['MONTHS_BALANCE'], 'M')\n",
    "cash['MONTHS_BALANCE'] = pd.to_timedelta(cash['MONTHS_BALANCE'], 'M')\n",
    "\n",
    "# Make a date column\n",
    "credit['credit_balance_date'] = start_date + credit['MONTHS_BALANCE']\n",
    "credit = credit.drop(columns = ['MONTHS_BALANCE'])\n",
    "\n",
    "# Make a date column\n",
    "cash['cash_balance_date'] = start_date + cash['MONTHS_BALANCE']\n",
    "cash = cash.drop(columns = ['MONTHS_BALANCE'])\n",
    "\n",
    "# Select on loan and plot\n",
    "example_credit = cash[cash['SK_ID_PREV'] == 1369693]\n",
    "\n",
    "plt.plot(example_credit['cash_balance_date'], example_credit['NAME_CONTRACT_STATUS'], 'ro');\n",
    "plt.title('Loan 1369693 over Time'); plt.xlabel('Date'); plt.ylabel('Contract Status');"
   ]
  },
  {
   "cell_type": "code",
   "execution_count": null,
   "metadata": {},
   "outputs": [],
   "source": []
  },
  {
   "cell_type": "code",
   "execution_count": 12,
   "metadata": {},
   "outputs": [
    {
     "data": {
      "image/png": "[encoded data removed]",
      "text/plain": [
       "<Figure size 432x288 with 1 Axes>"
      ]
     },
     "metadata": {},
     "output_type": "display_data"
    }
   ],
   "source": [
    "# Conver to time delta object\n",
    "installments['DAYS_INSTALMENT'] = pd.to_timedelta(installments['DAYS_INSTALMENT'], 'D')\n",
    "installments['DAYS_ENTRY_PAYMENT'] = pd.to_timedelta(installments['DAYS_ENTRY_PAYMENT'], 'D')\n",
    "\n",
    "# Create time column and drop\n",
    "installments['installments_due_date'] = start_date + installments['DAYS_INSTALMENT']\n",
    "installments = installments.drop(columns = ['DAYS_INSTALMENT'])\n",
    "\n",
    "installments['installments_paid_date'] = start_date + installments['DAYS_ENTRY_PAYMENT']\n",
    "installments = installments.drop(columns = ['DAYS_ENTRY_PAYMENT'])\n",
    "\n",
    "# Select one loan and plot\n",
    "example_credit = installments[installments['SK_ID_PREV'] == 1369693]\n",
    "plt.plot((example_credit['installments_due_date'] - example_credit['installments_paid_date']).dt.days, example_credit['AMT_INSTALMENT'], 'ro');\n",
    "plt.title('Loan 1369693'); plt.xlabel('Days Paid Early'); plt.ylabel('Installment Amount');"
   ]
  },
  {
   "cell_type": "code",
   "execution_count": null,
   "metadata": {},
   "outputs": [],
   "source": []
  },
  {
   "cell_type": "code",
   "execution_count": null,
   "metadata": {},
   "outputs": [],
   "source": []
  },
  {
   "cell_type": "markdown",
   "metadata": {},
   "source": [
    "# Entities and Entitysets"
   ]
  },
  {
   "cell_type": "code",
   "execution_count": 13,
   "metadata": {
    "code_folding": []
   },
   "outputs": [],
   "source": [
    "# Make an entityset\n",
    "es = ft.EntitySet(id = 'clients')\n",
    "\n",
    "# Entities with a unique index\n",
    "es = es.entity_from_dataframe(entity_id = 'app_train', dataframe = app_train, \n",
    "                              index = 'SK_ID_CURR', variable_types = app_types)\n",
    "\n",
    "es = es.entity_from_dataframe(entity_id = 'app_test', dataframe = app_test, \n",
    "                              index = 'SK_ID_CURR', variable_types = app_test_types)\n",
    "\n",
    "es = es.entity_from_dataframe(entity_id = 'bureau', dataframe = bureau, \n",
    "                              index = 'SK_ID_BUREAU', time_index='bureau_credit_application_date')\n",
    "\n",
    "es = es.entity_from_dataframe(entity_id = 'previous', dataframe = previous, \n",
    "                              index = 'SK_ID_PREV', time_index = 'previous_decision_date',\n",
    "                              variable_types = previous_types)\n",
    "\n",
    "# Entities that do not have a unique index\n",
    "es = es.entity_from_dataframe(entity_id = 'bureau_balance', dataframe = bureau_balance, \n",
    "                              make_index = True, index = 'bb_index',\n",
    "                              time_index = 'bureau_balance_date')\n",
    "\n",
    "es = es.entity_from_dataframe(entity_id = 'cash', dataframe = cash, \n",
    "                              make_index = True, index = 'cash_index',\n",
    "                              time_index = 'cash_balance_date')\n",
    "\n",
    "es = es.entity_from_dataframe(entity_id = 'installments', dataframe = installments,\n",
    "                              make_index = True, index = 'installments_index',\n",
    "                              time_index = 'installments_paid_date')\n",
    "\n",
    "es = es.entity_from_dataframe(entity_id = 'credit', dataframe = credit,\n",
    "                              make_index = True, index = 'credit_index',\n",
    "                              time_index = 'credit_balance_date')\n"
   ]
  },
  {
   "cell_type": "markdown",
   "metadata": {},
   "source": [
    "# Relationships"
   ]
  },
  {
   "cell_type": "code",
   "execution_count": 14,
   "metadata": {},
   "outputs": [
    {
     "data": {
      "text/plain": [
       "Entityset: clients\n",
       "  Entities:\n",
       "    app_test [Rows: 1001, Columns: 121]\n",
       "    previous [Rows: 1001, Columns: 37]\n",
       "    bureau_balance [Rows: 1001, Columns: 4]\n",
       "    installments [Rows: 1001, Columns: 9]\n",
       "    bureau [Rows: 1001, Columns: 21]\n",
       "    app_train [Rows: 1001, Columns: 122]\n",
       "    credit [Rows: 1001, Columns: 24]\n",
       "    cash [Rows: 1001, Columns: 9]\n",
       "  Relationships:\n",
       "    bureau.SK_ID_CURR -> app_train.SK_ID_CURR\n",
       "    bureau.SK_ID_CURR -> app_test.SK_ID_CURR\n",
       "    bureau_balance.SK_ID_BUREAU -> bureau.SK_ID_BUREAU\n",
       "    previous.SK_ID_CURR -> app_train.SK_ID_CURR\n",
       "    previous.SK_ID_CURR -> app_test.SK_ID_CURR\n",
       "    cash.SK_ID_PREV -> previous.SK_ID_PREV\n",
       "    installments.SK_ID_PREV -> previous.SK_ID_PREV\n",
       "    credit.SK_ID_PREV -> previous.SK_ID_PREV"
      ]
     },
     "execution_count": 14,
     "metadata": {},
     "output_type": "execute_result"
    }
   ],
   "source": [
    "# Relationship between app and bureau\n",
    "r_app_bureau = ft.Relationship(es['app_train']['SK_ID_CURR'], es['bureau']['SK_ID_CURR'])\n",
    "\n",
    "# Test Relationship between app and bureau\n",
    "r_test_app_bureau = ft.Relationship(es['app_test']['SK_ID_CURR'], es['bureau']['SK_ID_CURR'])\n",
    "\n",
    "# Relationship between bureau and bureau balance\n",
    "r_bureau_balance = ft.Relationship(es['bureau']['SK_ID_BUREAU'], es['bureau_balance']['SK_ID_BUREAU'])\n",
    "\n",
    "# Relationship between current app and previous apps\n",
    "r_app_previous = ft.Relationship(es['app_train']['SK_ID_CURR'], es['previous']['SK_ID_CURR'])\n",
    "\n",
    "# Test Relationship between current app and previous apps\n",
    "r_test_app_previous = ft.Relationship(es['app_test']['SK_ID_CURR'], es['previous']['SK_ID_CURR'])\n",
    "\n",
    "# Relationships between previous apps and cash, installments, and credit\n",
    "r_previous_cash = ft.Relationship(es['previous']['SK_ID_PREV'], es['cash']['SK_ID_PREV'])\n",
    "r_previous_installments = ft.Relationship(es['previous']['SK_ID_PREV'], es['installments']['SK_ID_PREV'])\n",
    "r_previous_credit = ft.Relationship(es['previous']['SK_ID_PREV'], es['credit']['SK_ID_PREV'])\n",
    "\n",
    "# Add in the defined relationships\n",
    "es = es.add_relationships([r_app_bureau, r_test_app_bureau, r_bureau_balance, r_app_previous, r_test_app_previous,\n",
    "                           r_previous_cash, r_previous_installments, r_previous_credit])\n",
    "# Print out the EntitySet\n",
    "es"
   ]
  },
  {
   "cell_type": "markdown",
   "metadata": {},
   "source": [
    "## Time Features\n",
    "\n",
    "Let's look at some of the time features we can make from the new time variables. Because these times are relative and not absolute, we are only interested in values that show change over time, such as trend or cumulative sum. We would not want to calculate values like the year or month since we choose an arbitrary starting date. \n",
    "\n",
    "Throughout this notebook, we will pass in a `chunk_size` to the `dfs` call which specifies the number of rows (if an integer) or the fraction or rows to use in each chunk (if a float). This can help to optimize the `dfs` procedure, and the `chunk_size` can have a [significant effect on the run time](https://docs.featuretools.com/guides/performance.html). Here we will use a chunk size equal to the number of rows in the data so all the results will be calculated in one pass. We also want to avoid making any features with the testing data, so we pass in `ignore_entities = [app_test]`."
   ]
  },
  {
   "cell_type": "code",
   "execution_count": 15,
   "metadata": {},
   "outputs": [
    {
     "name": "stdout",
     "output_type": "stream",
     "text": [
      "Built 229 features\n",
      "Elapsed: 00:19 | Remaining: 00:00 | Progress: 100%|████| Calculated: 1/1 chunks\n"
     ]
    }
   ],
   "source": [
    "time_features, time_feature_names = ft.dfs(entityset = es, target_entity = 'app_train', \n",
    "                                           trans_primitives = ['cum_sum', 'time_since_previous'], \n",
    "                                           max_depth = 2,\n",
    "                                           agg_primitives = ['trend'] ,\n",
    "                                           features_only = False, verbose = True,\n",
    "                                           chunk_size = len(app_train),\n",
    "                                           ignore_entities = ['app_test'])"
   ]
  },
  {
   "cell_type": "code",
   "execution_count": 16,
   "metadata": {},
   "outputs": [
    {
     "data": {
      "text/html": [
       "<div>\n",
       "<style scoped>\n",
       "    .dataframe tbody tr th:only-of-type {\n",
       "        vertical-align: middle;\n",
       "    }\n",
       "\n",
       "    .dataframe tbody tr th {\n",
       "        vertical-align: top;\n",
       "    }\n",
       "\n",
       "    .dataframe thead th {\n",
       "        text-align: right;\n",
       "    }\n",
       "</style>\n",
       "<table border=\"1\" class=\"dataframe\">\n",
       "  <thead>\n",
       "    <tr style=\"text-align: right;\">\n",
       "      <th></th>\n",
       "      <th>TREND(previous.TREND(cash.SK_ID_CURR, cash_balance_date), previous_decision_date)</th>\n",
       "      <th>TREND(previous.TREND(cash.CNT_INSTALMENT_FUTURE, cash_balance_date), previous_decision_date)</th>\n",
       "      <th>TREND(bureau.CUM_SUM(AMT_CREDIT_SUM by SK_ID_CURR), bureau_credit_application_date)</th>\n",
       "      <th>TREND(previous.TREND(cash.SK_DPD, cash_balance_date), previous_decision_date)</th>\n",
       "      <th>TREND(previous.TREND(installments.NUM_INSTALMENT_NUMBER, installments_paid_date), previous_decision_date)</th>\n",
       "      <th>TREND(previous.TREND(credit.CNT_DRAWINGS_ATM_CURRENT, credit_balance_date), previous_decision_date)</th>\n",
       "      <th>TREND(previous.TREND(credit.SK_DPD, credit_balance_date), previous_decision_date)</th>\n",
       "      <th>TREND(bureau.CUM_SUM(DAYS_ENDDATE_FACT by SK_ID_CURR), bureau_credit_application_date)</th>\n",
       "      <th>TREND(bureau.CUM_SUM(CNT_CREDIT_PROLONG by SK_ID_CURR), bureau_credit_application_date)</th>\n",
       "      <th>TREND(previous.TREND(installments.AMT_PAYMENT, installments_paid_date), previous_decision_date)</th>\n",
       "    </tr>\n",
       "    <tr>\n",
       "      <th>SK_ID_CURR</th>\n",
       "      <th></th>\n",
       "      <th></th>\n",
       "      <th></th>\n",
       "      <th></th>\n",
       "      <th></th>\n",
       "      <th></th>\n",
       "      <th></th>\n",
       "      <th></th>\n",
       "      <th></th>\n",
       "      <th></th>\n",
       "    </tr>\n",
       "  </thead>\n",
       "  <tbody>\n",
       "    <tr>\n",
       "      <th>100002</th>\n",
       "      <td>NaN</td>\n",
       "      <td>NaN</td>\n",
       "      <td>657.718776</td>\n",
       "      <td>NaN</td>\n",
       "      <td>NaN</td>\n",
       "      <td>NaN</td>\n",
       "      <td>NaN</td>\n",
       "      <td>-1.432667e+16</td>\n",
       "      <td>0.0</td>\n",
       "      <td>NaN</td>\n",
       "    </tr>\n",
       "    <tr>\n",
       "      <th>100003</th>\n",
       "      <td>0.0</td>\n",
       "      <td>-4.553042e-11</td>\n",
       "      <td>354.477112</td>\n",
       "      <td>0.0</td>\n",
       "      <td>1.143794e-06</td>\n",
       "      <td>NaN</td>\n",
       "      <td>NaN</td>\n",
       "      <td>-3.004727e+15</td>\n",
       "      <td>0.0</td>\n",
       "      <td>0.567768</td>\n",
       "    </tr>\n",
       "    <tr>\n",
       "      <th>100004</th>\n",
       "      <td>NaN</td>\n",
       "      <td>NaN</td>\n",
       "      <td>NaN</td>\n",
       "      <td>NaN</td>\n",
       "      <td>NaN</td>\n",
       "      <td>NaN</td>\n",
       "      <td>NaN</td>\n",
       "      <td>NaN</td>\n",
       "      <td>NaN</td>\n",
       "      <td>NaN</td>\n",
       "    </tr>\n",
       "    <tr>\n",
       "      <th>100006</th>\n",
       "      <td>0.0</td>\n",
       "      <td>-2.852821e-08</td>\n",
       "      <td>NaN</td>\n",
       "      <td>0.0</td>\n",
       "      <td>NaN</td>\n",
       "      <td>NaN</td>\n",
       "      <td>NaN</td>\n",
       "      <td>NaN</td>\n",
       "      <td>NaN</td>\n",
       "      <td>NaN</td>\n",
       "    </tr>\n",
       "    <tr>\n",
       "      <th>100007</th>\n",
       "      <td>0.0</td>\n",
       "      <td>-5.007947e-12</td>\n",
       "      <td>NaN</td>\n",
       "      <td>0.0</td>\n",
       "      <td>-6.788045e-08</td>\n",
       "      <td>NaN</td>\n",
       "      <td>NaN</td>\n",
       "      <td>NaN</td>\n",
       "      <td>NaN</td>\n",
       "      <td>0.002727</td>\n",
       "    </tr>\n",
       "  </tbody>\n",
       "</table>\n",
       "</div>"
      ],
      "text/plain": [
       "            TREND(previous.TREND(cash.SK_ID_CURR, cash_balance_date), previous_decision_date)  \\\n",
       "SK_ID_CURR                                                                                      \n",
       "100002                                                    NaN                                   \n",
       "100003                                                    0.0                                   \n",
       "100004                                                    NaN                                   \n",
       "100006                                                    0.0                                   \n",
       "100007                                                    0.0                                   \n",
       "\n",
       "            TREND(previous.TREND(cash.CNT_INSTALMENT_FUTURE, cash_balance_date), previous_decision_date)  \\\n",
       "SK_ID_CURR                                                                                                 \n",
       "100002                                                    NaN                                              \n",
       "100003                                          -4.553042e-11                                              \n",
       "100004                                                    NaN                                              \n",
       "100006                                          -2.852821e-08                                              \n",
       "100007                                          -5.007947e-12                                              \n",
       "\n",
       "            TREND(bureau.CUM_SUM(AMT_CREDIT_SUM by SK_ID_CURR), bureau_credit_application_date)  \\\n",
       "SK_ID_CURR                                                                                        \n",
       "100002                                             657.718776                                     \n",
       "100003                                             354.477112                                     \n",
       "100004                                                    NaN                                     \n",
       "100006                                                    NaN                                     \n",
       "100007                                                    NaN                                     \n",
       "\n",
       "            TREND(previous.TREND(cash.SK_DPD, cash_balance_date), previous_decision_date)  \\\n",
       "SK_ID_CURR                                                                                  \n",
       "100002                                                    NaN                               \n",
       "100003                                                    0.0                               \n",
       "100004                                                    NaN                               \n",
       "100006                                                    0.0                               \n",
       "100007                                                    0.0                               \n",
       "\n",
       "            TREND(previous.TREND(installments.NUM_INSTALMENT_NUMBER, installments_paid_date), previous_decision_date)  \\\n",
       "SK_ID_CURR                                                                                                              \n",
       "100002                                                    NaN                                                           \n",
       "100003                                           1.143794e-06                                                           \n",
       "100004                                                    NaN                                                           \n",
       "100006                                                    NaN                                                           \n",
       "100007                                          -6.788045e-08                                                           \n",
       "\n",
       "            TREND(previous.TREND(credit.CNT_DRAWINGS_ATM_CURRENT, credit_balance_date), previous_decision_date)  \\\n",
       "SK_ID_CURR                                                                                                        \n",
       "100002                                                    NaN                                                     \n",
       "100003                                                    NaN                                                     \n",
       "100004                                                    NaN                                                     \n",
       "100006                                                    NaN                                                     \n",
       "100007                                                    NaN                                                     \n",
       "\n",
       "            TREND(previous.TREND(credit.SK_DPD, credit_balance_date), previous_decision_date)  \\\n",
       "SK_ID_CURR                                                                                      \n",
       "100002                                                    NaN                                   \n",
       "100003                                                    NaN                                   \n",
       "100004                                                    NaN                                   \n",
       "100006                                                    NaN                                   \n",
       "100007                                                    NaN                                   \n",
       "\n",
       "            TREND(bureau.CUM_SUM(DAYS_ENDDATE_FACT by SK_ID_CURR), bureau_credit_application_date)  \\\n",
       "SK_ID_CURR                                                                                           \n",
       "100002                                          -1.432667e+16                                        \n",
       "100003                                          -3.004727e+15                                        \n",
       "100004                                                    NaN                                        \n",
       "100006                                                    NaN                                        \n",
       "100007                                                    NaN                                        \n",
       "\n",
       "            TREND(bureau.CUM_SUM(CNT_CREDIT_PROLONG by SK_ID_CURR), bureau_credit_application_date)  \\\n",
       "SK_ID_CURR                                                                                            \n",
       "100002                                                    0.0                                         \n",
       "100003                                                    0.0                                         \n",
       "100004                                                    NaN                                         \n",
       "100006                                                    NaN                                         \n",
       "100007                                                    NaN                                         \n",
       "\n",
       "            TREND(previous.TREND(installments.AMT_PAYMENT, installments_paid_date), previous_decision_date)  \n",
       "SK_ID_CURR                                                                                                   \n",
       "100002                                                    NaN                                                \n",
       "100003                                               0.567768                                                \n",
       "100004                                                    NaN                                                \n",
       "100006                                                    NaN                                                \n",
       "100007                                               0.002727                                                "
      ]
     },
     "execution_count": 16,
     "metadata": {},
     "output_type": "execute_result"
    }
   ],
   "source": [
    "time_features.iloc[:, -10:].head()\n"
   ]
  },
  {
   "cell_type": "code",
   "execution_count": 18,
   "metadata": {},
   "outputs": [
    {
     "data": {
      "image/png": "[encoded data removed]",
      "text/plain": [
       "<Figure size 576x432 with 1 Axes>"
      ]
     },
     "metadata": {},
     "output_type": "display_data"
    }
   ],
   "source": [
    "plt.figure(figsize = (8, 6))\n",
    "plt.hist(time_features['TREND(bureau.AMT_CREDIT_SUM, bureau_credit_application_date)'].dropna(), \n",
    "         edgecolor = 'k');\n",
    "plt.xlabel('TREND(bureau.AMT_CREDIT_SUM, bureau_credit_application_date)'); \n",
    "plt.ylabel('Counts'); plt.title('Distribution of Trends in Credit Sum');"
   ]
  },
  {
   "cell_type": "markdown",
   "metadata": {},
   "source": [
    "# Interesting Values\n",
    "\n",
    "Another method we can use in featuretools is \"interesting values.\" Specifying interesting values will calculate new features conditioned on values of existing features. For example, we can create new features that are conditioned on the value of `NAME_CONTRACT_STATUS` in the `previous` dataframe. Each stat will be calculated for the specified interesting values which can be useful when we know that there are certain indicators that are of greater importance in the data.  "
   ]
  },
  {
   "cell_type": "code",
   "execution_count": 19,
   "metadata": {},
   "outputs": [
    {
     "name": "stdout",
     "output_type": "stream",
     "text": [
      "Built 379 features\n",
      "Elapsed: 00:03 | Remaining: 00:00 | Progress: 100%|████| Calculated: 1/1 chunks\n"
     ]
    }
   ],
   "source": [
    "# Assign interesting values\n",
    "es['previous']['NAME_CONTRACT_STATUS'].interesting_values = ['Approved', 'Refused', 'Canceled']\n",
    "\n",
    "# Calculate the features with intereseting values\n",
    "interesting_features, interesting_feature_names = ft.dfs(entityset=es, target_entity='app_train', \n",
    "                                                         max_depth = 1, \n",
    "                                                         where_primitives = ['mean', 'mode'], \n",
    "                                                         trans_primitives=[], \n",
    "                                                         features_only = False, verbose = True,\n",
    "                                                         chunk_size = len(app_train),\n",
    "                                                         ignore_entities = ['app_test'])"
   ]
  },
  {
   "cell_type": "code",
   "execution_count": 20,
   "metadata": {},
   "outputs": [
    {
     "data": {
      "text/html": [
       "<div>\n",
       "<style scoped>\n",
       "    .dataframe tbody tr th:only-of-type {\n",
       "        vertical-align: middle;\n",
       "    }\n",
       "\n",
       "    .dataframe tbody tr th {\n",
       "        vertical-align: top;\n",
       "    }\n",
       "\n",
       "    .dataframe thead th {\n",
       "        text-align: right;\n",
       "    }\n",
       "</style>\n",
       "<table border=\"1\" class=\"dataframe\">\n",
       "  <thead>\n",
       "    <tr style=\"text-align: right;\">\n",
       "      <th></th>\n",
       "      <th>MODE(previous.WEEKDAY_APPR_PROCESS_START WHERE NAME_CONTRACT_STATUS = Refused)</th>\n",
       "      <th>MODE(previous.CHANNEL_TYPE WHERE NAME_CONTRACT_STATUS = Canceled)</th>\n",
       "      <th>MODE(previous.NAME_PAYMENT_TYPE WHERE NAME_CONTRACT_STATUS = Refused)</th>\n",
       "      <th>MEAN(previous.SELLERPLACE_AREA WHERE NAME_CONTRACT_STATUS = Approved)</th>\n",
       "      <th>MODE(previous.NAME_CLIENT_TYPE WHERE NAME_CONTRACT_STATUS = Refused)</th>\n",
       "      <th>MEAN(previous.RATE_INTEREST_PRIMARY WHERE NAME_CONTRACT_STATUS = Refused)</th>\n",
       "    </tr>\n",
       "    <tr>\n",
       "      <th>SK_ID_CURR</th>\n",
       "      <th></th>\n",
       "      <th></th>\n",
       "      <th></th>\n",
       "      <th></th>\n",
       "      <th></th>\n",
       "      <th></th>\n",
       "    </tr>\n",
       "  </thead>\n",
       "  <tbody>\n",
       "    <tr>\n",
       "      <th>100002</th>\n",
       "      <td>NaN</td>\n",
       "      <td>NaN</td>\n",
       "      <td>NaN</td>\n",
       "      <td>500.000000</td>\n",
       "      <td>NaN</td>\n",
       "      <td>NaN</td>\n",
       "    </tr>\n",
       "    <tr>\n",
       "      <th>100003</th>\n",
       "      <td>NaN</td>\n",
       "      <td>NaN</td>\n",
       "      <td>NaN</td>\n",
       "      <td>533.000000</td>\n",
       "      <td>NaN</td>\n",
       "      <td>NaN</td>\n",
       "    </tr>\n",
       "    <tr>\n",
       "      <th>100004</th>\n",
       "      <td>NaN</td>\n",
       "      <td>NaN</td>\n",
       "      <td>NaN</td>\n",
       "      <td>30.000000</td>\n",
       "      <td>NaN</td>\n",
       "      <td>NaN</td>\n",
       "    </tr>\n",
       "    <tr>\n",
       "      <th>100006</th>\n",
       "      <td>THURSDAY</td>\n",
       "      <td>Credit and cash offices</td>\n",
       "      <td>Cash through the bank</td>\n",
       "      <td>1610.400000</td>\n",
       "      <td>Repeater</td>\n",
       "      <td>NaN</td>\n",
       "    </tr>\n",
       "    <tr>\n",
       "      <th>100007</th>\n",
       "      <td>NaN</td>\n",
       "      <td>NaN</td>\n",
       "      <td>NaN</td>\n",
       "      <td>409.166667</td>\n",
       "      <td>NaN</td>\n",
       "      <td>NaN</td>\n",
       "    </tr>\n",
       "  </tbody>\n",
       "</table>\n",
       "</div>"
      ],
      "text/plain": [
       "           MODE(previous.WEEKDAY_APPR_PROCESS_START WHERE NAME_CONTRACT_STATUS = Refused)  \\\n",
       "SK_ID_CURR                                                                                  \n",
       "100002                                                    NaN                               \n",
       "100003                                                    NaN                               \n",
       "100004                                                    NaN                               \n",
       "100006                                               THURSDAY                               \n",
       "100007                                                    NaN                               \n",
       "\n",
       "           MODE(previous.CHANNEL_TYPE WHERE NAME_CONTRACT_STATUS = Canceled)  \\\n",
       "SK_ID_CURR                                                                     \n",
       "100002                                                    NaN                  \n",
       "100003                                                    NaN                  \n",
       "100004                                                    NaN                  \n",
       "100006                                Credit and cash offices                  \n",
       "100007                                                    NaN                  \n",
       "\n",
       "           MODE(previous.NAME_PAYMENT_TYPE WHERE NAME_CONTRACT_STATUS = Refused)  \\\n",
       "SK_ID_CURR                                                                         \n",
       "100002                                                    NaN                      \n",
       "100003                                                    NaN                      \n",
       "100004                                                    NaN                      \n",
       "100006                                  Cash through the bank                      \n",
       "100007                                                    NaN                      \n",
       "\n",
       "            MEAN(previous.SELLERPLACE_AREA WHERE NAME_CONTRACT_STATUS = Approved)  \\\n",
       "SK_ID_CURR                                                                          \n",
       "100002                                             500.000000                       \n",
       "100003                                             533.000000                       \n",
       "100004                                              30.000000                       \n",
       "100006                                            1610.400000                       \n",
       "100007                                             409.166667                       \n",
       "\n",
       "           MODE(previous.NAME_CLIENT_TYPE WHERE NAME_CONTRACT_STATUS = Refused)  \\\n",
       "SK_ID_CURR                                                                        \n",
       "100002                                                    NaN                     \n",
       "100003                                                    NaN                     \n",
       "100004                                                    NaN                     \n",
       "100006                                               Repeater                     \n",
       "100007                                                    NaN                     \n",
       "\n",
       "            MEAN(previous.RATE_INTEREST_PRIMARY WHERE NAME_CONTRACT_STATUS = Refused)  \n",
       "SK_ID_CURR                                                                             \n",
       "100002                                                    NaN                          \n",
       "100003                                                    NaN                          \n",
       "100004                                                    NaN                          \n",
       "100006                                                    NaN                          \n",
       "100007                                                    NaN                          "
      ]
     },
     "execution_count": 20,
     "metadata": {},
     "output_type": "execute_result"
    }
   ],
   "source": [
    "interesting_features.iloc[:, -6:, ].head()\n"
   ]
  },
  {
   "cell_type": "markdown",
   "metadata": {},
   "source": [
    "# Seed Features\n",
    "\n",
    "An additional extension to the default aggregations and transformations is to use [seed features](https://docs.featuretools.com/automated_feature_engineering/dfs_usage_tips.html#specifying-list-of-aggregation-functions). These are user defined features that we provide to deep feature synthesis that can then be built on top of where possible. \n",
    "\n",
    "As an example, we can create a seed feature that determines whether or not a payment was late. This time when we make the `dfs` function call, we need to pass in the `seed_features` argument."
   ]
  },
  {
   "cell_type": "code",
   "execution_count": 21,
   "metadata": {},
   "outputs": [
    {
     "name": "stdout",
     "output_type": "stream",
     "text": [
      "Built 208 features\n",
      "Elapsed: 00:00 | Remaining: 00:00 | Progress: 100%|████| Calculated: 1/1 chunks\n"
     ]
    }
   ],
   "source": [
    "# Late Payment seed feature\n",
    "late_payment = ft.Feature(es['installments']['installments_due_date']) < ft.Feature(\n",
    "    es['installments']['installments_paid_date'])\n",
    "\n",
    "# Rename the feature\n",
    "late_payment = late_payment.rename(\"late_payment\")\n",
    "\n",
    "# DFS with seed features\n",
    "seed_features, seed_feature_names = ft.dfs(entityset = es,\n",
    "                                           target_entity = 'app_train',\n",
    "                                           agg_primitives = ['percent_true', 'mean'],\n",
    "                                           trans_primitives = [], \n",
    "                                           seed_features = [late_payment],\n",
    "                                           features_only = False, verbose = True,\n",
    "                                           chunk_size = len(app_train),\n",
    "                                           ignore_entities = ['app_test'])"
   ]
  },
  {
   "cell_type": "code",
   "execution_count": 22,
   "metadata": {},
   "outputs": [
    {
     "data": {
      "text/html": [
       "<div>\n",
       "<style scoped>\n",
       "    .dataframe tbody tr th:only-of-type {\n",
       "        vertical-align: middle;\n",
       "    }\n",
       "\n",
       "    .dataframe tbody tr th {\n",
       "        vertical-align: top;\n",
       "    }\n",
       "\n",
       "    .dataframe thead th {\n",
       "        text-align: right;\n",
       "    }\n",
       "</style>\n",
       "<table border=\"1\" class=\"dataframe\">\n",
       "  <thead>\n",
       "    <tr style=\"text-align: right;\">\n",
       "      <th></th>\n",
       "      <th>PERCENT_TRUE(installments.late_payment)</th>\n",
       "      <th>MEAN(previous.PERCENT_TRUE(installments.late_payment))</th>\n",
       "    </tr>\n",
       "    <tr>\n",
       "      <th>SK_ID_CURR</th>\n",
       "      <th></th>\n",
       "      <th></th>\n",
       "    </tr>\n",
       "  </thead>\n",
       "  <tbody>\n",
       "    <tr>\n",
       "      <th>100002</th>\n",
       "      <td>0.000000</td>\n",
       "      <td>0.000000</td>\n",
       "    </tr>\n",
       "    <tr>\n",
       "      <th>100003</th>\n",
       "      <td>0.000000</td>\n",
       "      <td>0.000000</td>\n",
       "    </tr>\n",
       "    <tr>\n",
       "      <th>100004</th>\n",
       "      <td>0.000000</td>\n",
       "      <td>0.000000</td>\n",
       "    </tr>\n",
       "    <tr>\n",
       "      <th>100006</th>\n",
       "      <td>0.000000</td>\n",
       "      <td>0.000000</td>\n",
       "    </tr>\n",
       "    <tr>\n",
       "      <th>100007</th>\n",
       "      <td>0.242424</td>\n",
       "      <td>0.287912</td>\n",
       "    </tr>\n",
       "    <tr>\n",
       "      <th>100008</th>\n",
       "      <td>0.028571</td>\n",
       "      <td>0.022727</td>\n",
       "    </tr>\n",
       "    <tr>\n",
       "      <th>100009</th>\n",
       "      <td>0.000000</td>\n",
       "      <td>0.000000</td>\n",
       "    </tr>\n",
       "    <tr>\n",
       "      <th>100010</th>\n",
       "      <td>0.000000</td>\n",
       "      <td>0.000000</td>\n",
       "    </tr>\n",
       "    <tr>\n",
       "      <th>100011</th>\n",
       "      <td>0.146154</td>\n",
       "      <td>0.277160</td>\n",
       "    </tr>\n",
       "    <tr>\n",
       "      <th>100012</th>\n",
       "      <td>0.104167</td>\n",
       "      <td>0.118687</td>\n",
       "    </tr>\n",
       "  </tbody>\n",
       "</table>\n",
       "</div>"
      ],
      "text/plain": [
       "            PERCENT_TRUE(installments.late_payment)  \\\n",
       "SK_ID_CURR                                            \n",
       "100002                                     0.000000   \n",
       "100003                                     0.000000   \n",
       "100004                                     0.000000   \n",
       "100006                                     0.000000   \n",
       "100007                                     0.242424   \n",
       "100008                                     0.028571   \n",
       "100009                                     0.000000   \n",
       "100010                                     0.000000   \n",
       "100011                                     0.146154   \n",
       "100012                                     0.104167   \n",
       "\n",
       "            MEAN(previous.PERCENT_TRUE(installments.late_payment))  \n",
       "SK_ID_CURR                                                          \n",
       "100002                                               0.000000       \n",
       "100003                                               0.000000       \n",
       "100004                                               0.000000       \n",
       "100006                                               0.000000       \n",
       "100007                                               0.287912       \n",
       "100008                                               0.022727       \n",
       "100009                                               0.000000       \n",
       "100010                                               0.000000       \n",
       "100011                                               0.277160       \n",
       "100012                                               0.118687       "
      ]
     },
     "execution_count": 22,
     "metadata": {},
     "output_type": "execute_result"
    }
   ],
   "source": [
    "seed_features.iloc[:, -2:].head(10)\n"
   ]
  },
  {
   "cell_type": "code",
   "execution_count": 24,
   "metadata": {},
   "outputs": [
    {
     "name": "stderr",
     "output_type": "stream",
     "text": [
      "No handles with labels found to put in legend.\n"
     ]
    },
    {
     "data": {
      "image/png": "[encoded data removed]",
      "text/plain": [
       "<Figure size 432x288 with 1 Axes>"
      ]
     },
     "metadata": {},
     "output_type": "display_data"
    }
   ],
   "source": [
    "sns.kdeplot(seed_features['PERCENT_TRUE(installments.late_payment)'].dropna(), label = '')\n",
    "plt.xlabel('Late Installments'); plt.ylabel('Density');\n",
    "plt.title('Late Installment Fraction by Client');"
   ]
  },
  {
   "cell_type": "code",
   "execution_count": 25,
   "metadata": {},
   "outputs": [
    {
     "name": "stdout",
     "output_type": "stream",
     "text": [
      "Built 208 features\n",
      "Elapsed: 00:00 | Remaining: 00:00 | Progress: 100%|████| Calculated: 1/1 chunks\n"
     ]
    }
   ],
   "source": [
    "# Create a feed representing whether the loan is past due\n",
    "past_due = ft.Feature(es['bureau_balance']['STATUS']).isin(['1', '2', '3', '4', '5'])\n",
    "past_due = past_due.rename(\"past_due\")\n",
    "\n",
    "# DFS with specified seed feature\n",
    "seed_features, seed_feature_names = ft.dfs(entityset = es,\n",
    "                                           target_entity = 'app_train',\n",
    "                                           agg_primitives = ['percent_true', 'mean'],\n",
    "                                           trans_primitives = [], \n",
    "                                           seed_features = [past_due],\n",
    "                                           features_only = False, verbose = True,\n",
    "                                           chunk_size = len(app_train),\n",
    "                                           ignore_entities = ['app_test'])"
   ]
  },
  {
   "cell_type": "markdown",
   "metadata": {},
   "source": [
    "# Create Custom Feature Primitives\n",
    "\n",
    "If we are not satisfied with the existing primitives in featuretools, we [can write our own](https://docs.featuretools.com/automated_feature_engineering/primitives.html#defining-custom-primitives). This is an extremely powerful method that lets us expand the capabilities of featuretools. \n",
    "\n",
    "### NormalizedModeCount and LongestSeq\n",
    "\n",
    "As an example, we will make three features, building on code from the [featuretools GitHub](https://github.com/Featuretools/featuretools). These will be aggregation primitives, where the function takes in an array of values and returns a single value.  The first, `NormalizedModeCount`, builds upon the `Mode` function by returning the fraction of total observations in a categorical feature that the model makes up. In other words, for a client with 5 total `bureau_balance` observations where 4 of the `STATUS` were `X`, the value of the `NormalizedModeCount` would be 0.8. The idea is to record not only the most common value, but also the relative frequency of the most common value compared to all observations.  \n",
    "\n",
    "The second custom feature will record the longest consecutive run of a discrete variable. `LongestSeq` takes in an array of discrete values and returns the element that appears the most consecutive times. Because entities in the entityset are sorted by the `time_index`, this will return the value that occurs the most number of times in a row with respect to time. \n",
    "\n",
    "\n",
    "\n",
    "### MostRecent\n",
    "\n",
    "The final custom feature will be `MOSTRECENT`. This simply returns the most recent value of a discrete variable with respect to time columns in a dataframe. When we create an entity, featuretools will [sort the entity](https://github.com/Featuretools/featuretools/blob/master/featuretools/entityset/entity.py) by the `time_index`. Therefore, the built-in aggregation primitive `LAST` calculates the most recent value based on the time index. However, in cases where there are multiple different time columns, it might be useful to know the most recent value with respect to all of the times. To build the custom feature primitive, I adapted the existing `TREND` primitive ([code here](https://github.com/Featuretools/featuretools/blob/master/featuretools/primitives/aggregation_primitives.py)). "
   ]
  },
  {
   "cell_type": "code",
   "execution_count": 26,
   "metadata": {
    "code_folding": [
     16,
     39,
     76
    ]
   },
   "outputs": [],
   "source": [
    "from featuretools.variable_types import (\n",
    "    Boolean, Datetime,\n",
    "    DatetimeTimeIndex,\n",
    "    Discrete,\n",
    "    Index,\n",
    "    Numeric,\n",
    "    Variable,\n",
    "    Id\n",
    ")\n",
    "\n",
    "from featuretools.primitives import AggregationPrimitive, make_agg_primitive\n",
    "from datetime import datetime, timedelta\n",
    "\n",
    "from collections import Counter\n",
    "\n",
    "\n",
    "def normalized_mode_count(x):\n",
    "    \"\"\"\n",
    "    Return the fraction of total observations that \n",
    "    are the most common observation. For example, \n",
    "    in an array of ['A', 'A', 'A', 'B', 'B'], the \n",
    "    function will return 0.6.\"\"\"\n",
    "    \n",
    "    if x.mode().shape[0] == 0:\n",
    "        return np.nan\n",
    "            \n",
    "    # Count occurence of each value\n",
    "    counts = dict(Counter(x.values))\n",
    "    # Find the mode\n",
    "    mode = x.mode().iloc[0]\n",
    "    # Divide the occurences of mode by the total occurrences\n",
    "    return counts[mode] / np.sum(list(counts.values()))\n",
    "    \n",
    "\n",
    "NormalizedModeCount = make_agg_primitive(function = normalized_mode_count, \n",
    "                                         input_types = [Discrete],\n",
    "                                         return_type = Numeric)\n",
    "\n",
    "# Function from https://codereview.stackexchange.com/a/15095\n",
    "def longest_repetition(x):\n",
    "    \"\"\"\n",
    "    Returns the item with most consecutive occurrences in `x`. \n",
    "    If there are multiple items with the same number of conseqcutive occurrences,\n",
    "    it will return the first one. If `x` is empty, returns None. \n",
    "    \"\"\"\n",
    "    \n",
    "    x = x.dropna()\n",
    "    \n",
    "    if x.shape[0] < 1:\n",
    "        return None\n",
    "    \n",
    "    # Set the longest element\n",
    "    longest_element = current_element = None\n",
    "    longest_repeats = current_repeats = 0\n",
    "    \n",
    "    # Iterate through the iterable\n",
    "    for element in x:\n",
    "        if current_element == element:\n",
    "            current_repeats += 1\n",
    "        else:\n",
    "            current_element = element\n",
    "            current_repeats = 1\n",
    "        if current_repeats > longest_repeats:\n",
    "            longest_repeats = current_repeats\n",
    "            longest_element = current_element\n",
    "            \n",
    "    return longest_element\n",
    "\n",
    "LongestSeq = make_agg_primitive(function = longest_repetition,\n",
    "                                     input_types = [Discrete],\n",
    "                                     return_type = Discrete)    \n",
    "\n",
    "\n",
    "# Building on the Trend Aggregation Primitive\n",
    "# Copied from https://github.com/Featuretools/featuretools/blob/master/featuretools/primitives/aggregation_primitives.py\n",
    "\n",
    "def most_recent(y, x):\n",
    "    df = pd.DataFrame({\"x\": x, \"y\": y}).dropna()\n",
    "            \n",
    "    if df.shape[0] < 1:\n",
    "        return np.nan\n",
    "\n",
    "    # Sort the values by timestamps reversed\n",
    "    df = df.sort_values('x', ascending = False).reset_index()\n",
    "\n",
    "    # Return the most recent occurence\n",
    "    return df.iloc[0]['y']\n",
    "\n",
    "MostRecent = make_agg_primitive(function = most_recent,\n",
    "                                input_types = [Discrete, Datetime],\n",
    "                                return_type = Discrete)"
   ]
  },
  {
   "cell_type": "markdown",
   "metadata": {},
   "source": [
    "# Putting it all Together\n",
    "\n",
    "Finally, we can run deep feature synthesis with the time variables, with the correct specified categorical variables, with the interesting features, with the seed features, and with the custom features. To actually run this on the entire dataset, we can take the code here, put it in a script, and then use more computational resources. "
   ]
  },
  {
   "cell_type": "code",
   "execution_count": 29,
   "metadata": {},
   "outputs": [
    {
     "name": "stdout",
     "output_type": "stream",
     "text": [
      "Built 3343 features\n",
      "Elapsed: 02:00 | Remaining: 00:00 | Progress: 100%|████| Calculated: 1/1 chunks\n"
     ]
    }
   ],
   "source": [
    "# Run and create the features\n",
    "feature_matrix, feature_names = ft.dfs(entityset = es, target_entity = 'app_train',\n",
    "                                       agg_primitives = ['mean', 'max', 'min', 'trend', 'mode', \n",
    "                                                         'count', \n",
    "                                                         'sum', 'percent_true', NormalizedModeCount, \n",
    "                                                         MostRecent, LongestSeq],\n",
    "                                       trans_primitives = ['diff', 'cum_sum', 'cum_mean', \n",
    "                                                           'percentile'], \n",
    "                                       where_primitives = ['mean', 'sum'],\n",
    "                                       seed_features = [late_payment, past_due],\n",
    "                                       max_depth = 2, features_only = False, verbose = True,\n",
    "                                       chunk_size = len(app_train),\n",
    "                                       ignore_entities = ['app_test'])"
   ]
  },
  {
   "cell_type": "markdown",
   "metadata": {},
   "source": [
    "We will now do the same operation applied to the test set. Doing the calculations separately should prevent leakage from the testing data into the training data."
   ]
  },
  {
   "cell_type": "code",
   "execution_count": 27,
   "metadata": {},
   "outputs": [
    {
     "name": "stdout",
     "output_type": "stream",
     "text": [
      "Built 3342 features\n",
      "Elapsed: 00:25 | Remaining: 00:00 | Progress: 100%|████| Calculated: 1/1 chunks\n"
     ]
    }
   ],
   "source": [
    "# Run and create the features\n",
    "feature_matrix_test, feature_names_test = ft.dfs(entityset = es, target_entity = 'app_test',\n",
    "                                                   agg_primitives = ['mean', 'max', 'min', 'trend', \n",
    "                                                                     'mode', 'count', \n",
    "                                                                     'sum', 'percent_true', \n",
    "                                                                     NormalizedModeCount, \n",
    "                                                                     MostRecent, LongestSeq],\n",
    "                                                   trans_primitives = ['diff', 'cum_sum', 'cum_mean',\n",
    "                                                                       'percentile'], \n",
    "                                                   where_primitives = ['mean', 'sum'],\n",
    "                                                   seed_features = [late_payment, past_due],\n",
    "                                                   max_depth = 2, features_only = False, \n",
    "                                                 verbose = True,\n",
    "                                                   chunk_size = len(app_test),\n",
    "                                                   ignore_entities = ['app_train'])\n"
   ]
  },
  {
   "cell_type": "markdown",
   "metadata": {},
   "source": [
    "## Remove Features\n",
    "\n",
    "[Feature selection](https://en.wikipedia.org/wiki/Feature_selection) is an entire topic to itself. However, one thing we can do is use the built-in featuretools [selection function to remove](https://docs.featuretools.com/generated/featuretools.selection.remove_low_information_features.html) columns that only have one unique value or have all null values. "
   ]
  },
  {
   "cell_type": "code",
   "execution_count": 30,
   "metadata": {},
   "outputs": [
    {
     "name": "stdout",
     "output_type": "stream",
     "text": [
      "Removed 509 features from training features\n",
      "Removed 513 features from testing features\n"
     ]
    }
   ],
   "source": [
    "from featuretools import selection\n",
    "\n",
    "# Remove low information features\n",
    "feature_matrix2 = selection.remove_low_information_features(feature_matrix)\n",
    "print('Removed %d features from training features'  % (feature_matrix.shape[1] - feature_matrix2.shape[1]))\n",
    "\n",
    "feature_matrix_test2 = selection.remove_low_information_features(feature_matrix_test)\n",
    "print('Removed %d features from testing features' % (feature_matrix_test.shape[1] - feature_matrix_test2.shape[1]))"
   ]
  },
  {
   "cell_type": "code",
   "execution_count": 31,
   "metadata": {},
   "outputs": [
    {
     "name": "stdout",
     "output_type": "stream",
     "text": [
      "Final training shape:  (1001, 2830)\n",
      "Final testing shape:  (1001, 2829)\n"
     ]
    }
   ],
   "source": [
    "train_labels = feature_matrix['TARGET']\n",
    "feature_matrix, feature_matrix_test = feature_matrix2.align(feature_matrix_test2, join = 'inner', axis = 1)\n",
    "feature_matrix['TARGET'] = train_labels\n",
    "\n",
    "print('Final training shape: ', feature_matrix.shape)\n",
    "print('Final testing shape: ', feature_matrix_test.shape)"
   ]
  },
  {
   "cell_type": "code",
   "execution_count": 33,
   "metadata": {},
   "outputs": [],
   "source": [
    "# Save the feature matrix to a csv\n",
    "feature_matrix.to_csv('../output/feature_matrix.csv')\n",
    "feature_matrix_test.to_csv('../output/feature_matrix_test.csv')"
   ]
  },
  {
   "cell_type": "code",
   "execution_count": null,
   "metadata": {},
   "outputs": [],
   "source": []
  },
  {
   "cell_type": "code",
   "execution_count": null,
   "metadata": {},
   "outputs": [],
   "source": []
  }
 ],
 "metadata": {
  "kernelspec": {
   "display_name": "Python 3",
   "language": "python",
   "name": "python3"
  },
  "language_info": {
   "codemirror_mode": {
    "name": "ipython",
    "version": 3
   },
   "file_extension": ".py",
   "mimetype": "text/x-python",
   "name": "python",
   "nbconvert_exporter": "python",
   "pygments_lexer": "ipython3",
   "version": "3.5.5"
  }
 },
 "nbformat": 4,
 "nbformat_minor": 2
}
