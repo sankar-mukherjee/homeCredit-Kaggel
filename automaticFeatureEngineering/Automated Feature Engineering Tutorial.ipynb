{
  "cells": [
    {
      "metadata": {
        "colab_type": "text",
        "id": "MockJ-NBFvgv",
        "_uuid": "be9f7b80cb1290c69e8fde3ae3940709635eb5da"
      },
      "cell_type": "markdown",
      "source": "# Introduction: Automated Feature Engineering\n\nIn this notebook, we will look at an exciting development in data science: automated feature engineering. A machine learning model can only learn from the data we give it, and making sure that data is relevant to the task is one of the most crucial steps in the machine learning pipeline (this is made clear in the excellent paper [\"A Few Useful Things to Know about Machine Learning\"](https://homes.cs.washington.edu/~pedrod/papers/cacm12.pdf)). \n\nHowever, manual feature engineering is a tedious task and is limited by both human imagination - there are only so many features we can think to create - and by time - creating new features is time-intensive. Ideally, there would be an objective method to create an array of diverse new candidate features that we can then use for a machine learning task. This process is meant to not replace the data scientist, but to make her job easier and allowing her to supplement domain knowledge with an automated workflow.\n\nIn this notebook, we will walk through an implementation of using [Feature Tools](https://www.featuretools.com/), an open-source Python library for automatically creating features with relational data (where the data is in structured tables). Although there are now many efforts working to enable automated model selection and hyperparameter tuning, there has been a lack of automating work on the feature engineering aspect of the pipeline. This library seeks to close that gap and the general methodology has been proven effective in both [machine learning competitions with the data science machine](https://github.com/HDI-Project/Data-Science-Machine) and [business use cases](https://www.featurelabs.com/blog/predicting-credit-card-fraud/). \n\n\n## Dataset\n\nTo show the basic idea of feature tools we will use an example dataset consisting of three tables:\n\n* `clients`: information about clients at a credit union\n* `loans`: previous loans taken out by the clients\n* `payments`: payments made/missed on the previous loans\n\nThe general problem of feature engineering is taking disparate data, often distributed across multiple tables, and combining it into a single table that can be used for training a machine learning model. Feature tools has the ability to do this for us, creating many new candidate features with minimal effort. These features are combined into a single table that can then be passed on to our model. \n\nFirst, let's load in the data and look at the problem we are working with."
    },
    {
      "metadata": {
        "colab": {
          "autoexec": {
            "startup": false,
            "wait_interval": 0
          }
        },
        "colab_type": "code",
        "id": "4zDxrOS8F_t0",
        "trusted": false,
        "collapsed": true,
        "_uuid": "39c3642fab2b156c97075399e7d58797d105905e"
      },
      "cell_type": "code",
      "source": "# Run this if feature tools is not already installed\n# !pip install -U featuretools",
      "execution_count": null,
      "outputs": []
    },
    {
      "metadata": {
        "colab": {
          "autoexec": {
            "startup": false,
            "wait_interval": 0
          }
        },
        "colab_type": "code",
        "id": "Og7QpzFkFrf9",
        "trusted": false,
        "collapsed": true,
        "_uuid": "f1947256d79a9854f5b86ea561081e8c8a888c57"
      },
      "cell_type": "code",
      "source": "# pandas and numpy for data manipulation\nimport pandas as pd\nimport numpy as np\n\n# featuretools for automated feature engineering\nimport featuretools as ft\n\n# ignore warnings from pandas\nimport warnings\nwarnings.filterwarnings('ignore')",
      "execution_count": null,
      "outputs": []
    },
    {
      "metadata": {
        "colab": {
          "autoexec": {
            "startup": false,
            "wait_interval": 0
          }
        },
        "colab_type": "code",
        "id": "BGkrloKKGbD2",
        "trusted": false,
        "collapsed": true,
        "_uuid": "86ed7a4c37f3183d549f3c11b6e57ddac4dec449"
      },
      "cell_type": "code",
      "source": "# Read in the data\nclients = pd.read_csv('../input/clients.csv', parse_dates = ['joined'])\nloans = pd.read_csv('../input/loans.csv', parse_dates = ['loan_start', 'loan_end'])\npayments = pd.read_csv('../input/payments.csv', parse_dates = ['payment_date'])",
      "execution_count": null,
      "outputs": []
    },
    {
      "metadata": {
        "colab": {
          "autoexec": {
            "startup": false,
            "wait_interval": 0
          }
        },
        "colab_type": "code",
        "id": "08ST5lOrrTxg",
        "trusted": false,
        "_uuid": "b0f4d57516474bebe50563450c8bbc7a36d480c1",
        "collapsed": true
      },
      "cell_type": "code",
      "source": "clients.head()",
      "execution_count": null,
      "outputs": []
    },
    {
      "metadata": {
        "colab": {
          "autoexec": {
            "startup": false,
            "wait_interval": 0
          }
        },
        "colab_type": "code",
        "id": "S6TXsCZW3Rau",
        "trusted": false,
        "_uuid": "86447213a7a6aeb578851b9f2b211cc62d01b582",
        "collapsed": true
      },
      "cell_type": "code",
      "source": "loans.sample(10)",
      "execution_count": null,
      "outputs": []
    },
    {
      "metadata": {
        "colab": {
          "autoexec": {
            "startup": false,
            "wait_interval": 0
          }
        },
        "colab_type": "code",
        "id": "uIOMlPAD3TfZ",
        "trusted": false,
        "_uuid": "d00e5b6744a161df17e733403155d4ddbff2411d",
        "collapsed": true
      },
      "cell_type": "code",
      "source": "payments.sample(10)",
      "execution_count": null,
      "outputs": []
    },
    {
      "metadata": {
        "colab_type": "text",
        "id": "AvmwEpIbrQIW",
        "_uuid": "1cfed2738e171c0b62cd40883657a93c527f9eb1"
      },
      "cell_type": "markdown",
      "source": "### Manual Feature Engineering Examples\n\nLet's show a few examples of features we might make by hand. We will keep this relatively simple to avoid doing too much work! First we will focus on a single dataframe before combining them together. In the `clients` dataframe, we can take the month of the `joined` column and the natural log of the `income` column. Later, we see these are known in feature tools as transformation feature primitives because they act on column in a single table. "
    },
    {
      "metadata": {
        "colab": {
          "autoexec": {
            "startup": false,
            "wait_interval": 0
          }
        },
        "colab_type": "code",
        "id": "PRTEs9XSUz94",
        "trusted": false,
        "_uuid": "aae4511416b4ac7d79a9da53df56f036f6ffa0db",
        "collapsed": true
      },
      "cell_type": "code",
      "source": "# Create a month column\nclients['join_month'] = clients['joined'].dt.month\n\n# Create a log of income column\nclients['log_income'] = np.log(clients['income'])\n\nclients.head()",
      "execution_count": null,
      "outputs": []
    },
    {
      "metadata": {
        "colab_type": "text",
        "id": "reiPaTnVs2Yk",
        "_uuid": "1aefb68b71047e228c0f39567fc504ba22ecce29"
      },
      "cell_type": "markdown",
      "source": "To incorporate information about the other tables, we use the `df.groupby` method, followed by a suitable aggregation function, followed by `df.merge`.  For example, let's calculate the average, minimum, and maximum amount of previous loans for each client. In the terms of feature tools, this would be considered an aggregation feature primitive because we using multiple tables in a one-to-many relationship to calculate aggregation figures (don't worry, this will be explained shortly!)."
    },
    {
      "metadata": {
        "colab": {
          "autoexec": {
            "startup": false,
            "wait_interval": 0
          }
        },
        "colab_type": "code",
        "id": "rLOJHXqOs2GD",
        "trusted": false,
        "_uuid": "26b2cfe5f3bab31ef88a9a66d2801afeebd3493d",
        "collapsed": true
      },
      "cell_type": "code",
      "source": "# Groupby client id and calculate mean, max, min previous loan size\nstats = loans.groupby('client_id')['loan_amount'].agg(['mean', 'max', 'min'])\nstats.columns = ['mean_loan_amount', 'max_loan_amount', 'min_loan_amount']\nstats.head()",
      "execution_count": null,
      "outputs": []
    },
    {
      "metadata": {
        "colab": {
          "autoexec": {
            "startup": false,
            "wait_interval": 0
          }
        },
        "colab_type": "code",
        "id": "Kf63VwWytmm8",
        "trusted": false,
        "_uuid": "baff03d5ad06c484bdb98b1a1d3503f20db9993b",
        "collapsed": true
      },
      "cell_type": "code",
      "source": "# Merge with the clients dataframe\nclients.merge(stats, left_on = 'client_id', right_index=True, how = 'left').head(10)",
      "execution_count": null,
      "outputs": []
    },
    {
      "metadata": {
        "colab_type": "text",
        "id": "0aVnENNBt6pN",
        "_uuid": "0329a283f2d52b71d522a97788f785e71ee69c48"
      },
      "cell_type": "markdown",
      "source": "We could go further and include information about `payments` in the `clients` dataframe. To do so, we would have to group `payments` by the `loan_id`, merge it with the `loans`, group the resulting dataframe by the `client_id`, and then merge it into the `clients` dataframe. This would allow us to include information about previous payments for each client. \n\nClearly, this process of manual feature engineering can grow quite tedious with many columns and multiple tables and I certainly don't want to have to do this process by hand! Luckily, feature tools can automatically perform this entire process and will create more features than we would have ever thought of. Although I love `pandas`, there is only so much manual data manipulation I'm willing to stand! "
    },
    {
      "metadata": {
        "colab_type": "text",
        "id": "UWAPnDJruqNs",
        "_uuid": "4155268dafc931ace39d0e4eccb99d5d2b3d5dfb"
      },
      "cell_type": "markdown",
      "source": "# Feature Tools\n\nNow that we know what we are trying to avoid (tedious manual feature engineering), let's figure out how to automate this process. Feature tools operates on an idea known as [Deep Feature Synthesis](https://docs.featuretools.com/api_reference.html#deep-feature-synthesis). You can read the [original paper here](http://www.jmaxkanter.com/static/papers/DSAA_DSM_2015.pdf), and although it's quite readable, it's not necessary to understand the details to do automated feature engineering. The concept of Deep Feature Synthesis is to use basic building blocks known as feature primitives (like the transformations and aggregations done above) that can be stacked on top of each other to form new features. The depth of a \"deep feature\" is equal to the number of stacked primitives. \n\nI threw out some terms there, but don't worry because we'll cover them as we go. Feature Tools builds on simple ideas to create a powerful method, and we will build up our understanding in much the same way. \n\nThe first part of Feature Tools to understand [is an `entity`](https://docs.featuretools.com/loading_data/using_entitysets.html#adding-entities). This is simply a table, or in `pandas`, a `DataFrame`. We corral multiple entities into a [single object called an `EntitySet`](https://docs.featuretools.com/loading_data/using_entitysets.html). This is just a large data structure composed of many individual entities and the relationships between them.  \n\n## EntitySet\n\nCreating a new `EntitySet` is pretty simple: "
    },
    {
      "metadata": {
        "colab": {
          "autoexec": {
            "startup": false,
            "wait_interval": 0
          }
        },
        "colab_type": "code",
        "id": "XTwph48RGr9Q",
        "trusted": false,
        "collapsed": true,
        "_uuid": "d7e11232bc928d16dc3cf0698d355c4e89ae0da2"
      },
      "cell_type": "code",
      "source": "es = ft.EntitySet(id = 'clients')",
      "execution_count": null,
      "outputs": []
    },
    {
      "metadata": {
        "colab_type": "text",
        "id": "pHJSYZU1Vro7",
        "_uuid": "41d06bbc1476871c8343b77e759a20deb6135b17"
      },
      "cell_type": "markdown",
      "source": "## Entities \n\nAn entity is simply a table, which is represented in Pandas as a `dataframe`. Each entity must have a uniquely identifying column, known as an index. For the clients dataframe, this is the `client_id` because each id only appears once in the `clients` data. In the `loans` dataframe, `client_id` is not an index because each id might appear more than once. The index for this dataframe is instead `loan_id`. \n\nWhen we create an `entity` in feature tools, we have to identify which column of the dataframe is the index. If the data does not have a unique index we can tell feature tools to make an index for the entity by passing in `make_index = True` and specifying a name for the index. If the data also has a uniquely identifying time index, we can pass that in as the `time_index` parameter. \n\nFeature tools will automatically infer the variable types (numeric, categorical, datetime) of the columns in our data, but we can also pass in specific datatypes to override this behavior. As an example, even though the `repaid` column in the `loans` dataframe is represented as an integer, we can tell feature tools that this is a categorical feature since it can only take on two discrete values. This is done using an integer with the variables as keys and the feature types as values.\n\nIn the code below we create the three entities and add them to the `EntitySet`.  The syntax is relatively straightforward with a few notes: for the `payments` dataframe we need to make an index, for the `loans` dataframe, we specify that `repaid` is a categorical variable, and for the `payments` dataframe, we specify that `missed` is a categorical feature. "
    },
    {
      "metadata": {
        "colab": {
          "autoexec": {
            "startup": false,
            "wait_interval": 0
          }
        },
        "colab_type": "code",
        "id": "iWORNI1MGwYQ",
        "trusted": false,
        "collapsed": true,
        "_uuid": "9384173382b9f17bc515ea2d45c128022221eda3"
      },
      "cell_type": "code",
      "source": "# Create an entity from the client dataframe\n# This dataframe already has an index and a time index\nes = es.entity_from_dataframe(entity_id = 'clients', dataframe = clients, \n                              index = 'client_id', time_index = 'joined')",
      "execution_count": null,
      "outputs": []
    },
    {
      "metadata": {
        "colab": {
          "autoexec": {
            "startup": false,
            "wait_interval": 0
          }
        },
        "colab_type": "code",
        "id": "7_aDZl4IG98s",
        "trusted": false,
        "collapsed": true,
        "_uuid": "b0d25159761439115d2fb5e1636445b35e0057da"
      },
      "cell_type": "code",
      "source": "# Create an entity from the loans dataframe\n# This dataframe already has an index and a time index\nes = es.entity_from_dataframe(entity_id = 'loans', dataframe = loans, \n                              variable_types = {'repaid': ft.variable_types.Categorical},\n                              index = 'loan_id', \n                              time_index = 'loan_start')",
      "execution_count": null,
      "outputs": []
    },
    {
      "metadata": {
        "colab": {
          "autoexec": {
            "startup": false,
            "wait_interval": 0
          }
        },
        "colab_type": "code",
        "id": "8VAjTWWbSXmi",
        "trusted": false,
        "collapsed": true,
        "_uuid": "c01ea7682bc9f78975ed67e67a28bb4b44215398"
      },
      "cell_type": "code",
      "source": "# Create an entity from the payments dataframe\n# This does not yet have a unique index\nes = es.entity_from_dataframe(entity_id = 'payments', \n                              dataframe = payments,\n                              variable_types = {'missed': ft.variable_types.Categorical},\n                              make_index = True,\n                              index = 'payment_id',\n                              time_index = 'payment_date')",
      "execution_count": null,
      "outputs": []
    },
    {
      "metadata": {
        "colab": {
          "autoexec": {
            "startup": false,
            "wait_interval": 0
          }
        },
        "colab_type": "code",
        "id": "1EV_Zg7QSxTo",
        "trusted": false,
        "_uuid": "f21f9e20aceae8d0edeb82b5907454c63161779f",
        "collapsed": true
      },
      "cell_type": "code",
      "source": "es",
      "execution_count": null,
      "outputs": []
    },
    {
      "metadata": {
        "colab_type": "text",
        "id": "xmQwcxRQXQAf",
        "_uuid": "a3c085546d51094729b6d3fd2afd09eae5570553"
      },
      "cell_type": "markdown",
      "source": "All three entities have been successfully added to the `EntitySet`. We can access any of the entities using Python dictionary syntax."
    },
    {
      "metadata": {
        "colab": {
          "autoexec": {
            "startup": false,
            "wait_interval": 0
          }
        },
        "colab_type": "code",
        "id": "7rFib_OrXZiN",
        "trusted": false,
        "_uuid": "48907e7f82e61b21d688606042b46a49cbe72f00",
        "collapsed": true
      },
      "cell_type": "code",
      "source": "es['loans']",
      "execution_count": null,
      "outputs": []
    },
    {
      "metadata": {
        "colab_type": "text",
        "id": "sZJ-HlanXduM",
        "_uuid": "af334bdd18ff2fd35b9606d8413adb5376e9667f"
      },
      "cell_type": "markdown",
      "source": "Feature tools correctly inferred each of the datatypes when we made this entity. We can also see that we overrode the type for the `repaid` feature, changing if from numeric to categorical. "
    },
    {
      "metadata": {
        "trusted": false,
        "_uuid": "6e2355d279d0c451eec14c78d358d02747d7c54a",
        "collapsed": true
      },
      "cell_type": "code",
      "source": "es['payments']",
      "execution_count": null,
      "outputs": []
    },
    {
      "metadata": {
        "colab_type": "text",
        "id": "fhs4qoakVNyk",
        "_uuid": "180d844a126b3eb825273fc025d3870fb7670a5b"
      },
      "cell_type": "markdown",
      "source": "## Relationships\n\nAfter defining the entities (tables) in an `EntitySet`, we now need to tell feature tools [how they are related with a relationship](https://docs.featuretools.com/loading_data/using_entitysets.html#adding-a-relationship). The most intuitive way to think of relationships is with the parent to child analogy: a parent-to-child relationship is one-to-many because for each parent, there can be multiple children. The `client` dataframe is therefore the parent of the `loans` dataframe because while there is only one row for each client in the `client` dataframe, each client may have several previous loans covering multiple rows in the `loans` dataframe. Likewise, the `loans` dataframe is the parent of the `payments` dataframe because each loan will have multiple payments. \n\nThese relationships are what allow us to group together datapoints using aggregation primitives and then create new features. As an example, we can group all of the previous loans associated with one client and find the average loan amount. We will discuss the features themselves more in a little bit, but for now let's define the relationships. \n\nTo define relationships, we need to specify the parent variable and the child variable. This is the variable that links two entities together. In our example, the `client` and `loans` dataframes are linked together by the `client_id` column. Again, this is a parent to child relationship because for each `client_id` in the parent `client` dataframe, there may be multiple entries of the same `client_id` in the child `loans` dataframe. \n\nWe codify relationships in the language of feature tools by specifying the parent variable and then the child variable. After creating a relationship, we add it to the `EntitySet`. "
    },
    {
      "metadata": {
        "colab": {
          "autoexec": {
            "startup": false,
            "wait_interval": 0
          }
        },
        "colab_type": "code",
        "id": "ChKZnFWTVJrh",
        "trusted": false,
        "collapsed": true,
        "_uuid": "2f88222ed8f322169d1e655b87e520b7082e7fcc"
      },
      "cell_type": "code",
      "source": "# Relationship between clients and previous loans\nr_client_previous = ft.Relationship(es['clients']['client_id'],\n                                    es['loans']['client_id'])\n\n# Add the relationship to the entity set\nes = es.add_relationship(r_client_previous)",
      "execution_count": null,
      "outputs": []
    },
    {
      "metadata": {
        "colab_type": "text",
        "id": "DAPdMnwnZkHM",
        "_uuid": "6ea1f78591f0b1afdf226edb47de00ddb413bfe1"
      },
      "cell_type": "markdown",
      "source": "The relationship has now been stored in the entity set. The second relationship is between the `loans` and `payments`. These two entities are related by the `loan_id` variable."
    },
    {
      "metadata": {
        "colab": {
          "autoexec": {
            "startup": false,
            "wait_interval": 0
          }
        },
        "colab_type": "code",
        "id": "DrgSGOEDZe6N",
        "trusted": false,
        "_uuid": "e5cb200c110f15d63d9ddc02e00763fbb2a41e1c",
        "collapsed": true
      },
      "cell_type": "code",
      "source": "# Relationship between previous loans and previous payments\nr_payments = ft.Relationship(es['loans']['loan_id'],\n                                      es['payments']['loan_id'])\n\n# Add the relationship to the entity set\nes = es.add_relationship(r_payments)\n\nes",
      "execution_count": null,
      "outputs": []
    },
    {
      "metadata": {
        "colab_type": "text",
        "id": "oeFZMQVIaBV4",
        "_uuid": "b5864ca9b6f5bb126ee66fa4373219b02d69c13f"
      },
      "cell_type": "markdown",
      "source": "We now have our entities in an entityset along with the relationships between them. We can now start to making new features from all of the tables using stacks of feature primitives to form deep features. First, let's cover feature primitives.\n\n\n## Feature Primitives\n\nA [feature primitive](https://docs.featuretools.com/automated_feature_engineering/primitives.html) a at a very high-level is an operation applied to data to create a feature. These represent very simple calculations that can be stacked on top of each other to create complex features. Feature primitives fall into two categories:\n\n* __Aggregation__: function that groups together child datapoints for each parent and then calculates a statistic such as mean, min, max, or standard deviation. An example is calculating the maximum loan amount for each client. An aggregation works across multiple tables using relationships between tables.\n* __Transformation__: an operation applied to one or more columns in a single table. An example would be extracting the day from dates, or finding the difference between two columns in one table.\n\nLet's take a look at feature primitives in feature tools. We can view the list of primitives:"
    },
    {
      "metadata": {
        "colab": {
          "autoexec": {
            "startup": false,
            "wait_interval": 0
          }
        },
        "colab_type": "code",
        "id": "KNHzhu7WaALK",
        "trusted": false,
        "_uuid": "4bdfa855dd7bddf51fee22598235dd4da00bcee2",
        "collapsed": true
      },
      "cell_type": "code",
      "source": "primitives = ft.list_primitives()\npd.options.display.max_colwidth = 100\nprimitives[primitives['type'] == 'aggregation'].head(10)",
      "execution_count": null,
      "outputs": []
    },
    {
      "metadata": {
        "colab": {
          "autoexec": {
            "startup": false,
            "wait_interval": 0
          }
        },
        "colab_type": "code",
        "id": "-aDilk0Tdjml",
        "trusted": false,
        "_uuid": "cf852862534c550f974872d6f4690f000667895e",
        "collapsed": true
      },
      "cell_type": "code",
      "source": "primitives[primitives['type'] == 'transform'].head(10)",
      "execution_count": null,
      "outputs": []
    },
    {
      "metadata": {
        "colab_type": "text",
        "id": "QWMofjqMdur6",
        "_uuid": "63884d6449d085b961eed473cb2e2ab3832486d4"
      },
      "cell_type": "markdown",
      "source": "If feature tools does not have enough primitives for us, we can [also make our own.](https://docs.featuretools.com/automated_feature_engineering/primitives.html#defining-custom-primitives) \n\nTo get an idea of what a feature primitive actually does, let's try out a few on our data. Using primitives is surprisingly easy using the `ft.dfs` function (which stands for deep feature synthesis). In this function, we specify the entityset to use; the `target_entity`, which is the dataframe we want to make the features for (where the features end up); the `agg_primitives` which are the aggregation feature primitives; and the `trans_primitives` which are the transformation primitives to apply. \n\nIn the following example, we are using the `EntitySet` we already created, the target entity is the `clients` dataframe because we want to make new features about each client, and then we specify a few aggregation and transformation primitives. "
    },
    {
      "metadata": {
        "colab": {
          "autoexec": {
            "startup": false,
            "wait_interval": 0
          }
        },
        "colab_type": "code",
        "id": "GVK71fusd8uF",
        "trusted": false,
        "collapsed": true,
        "_uuid": "f9694afc92e7cdf8390c1ea13b834746152b14bf"
      },
      "cell_type": "code",
      "source": "# Create new features using specified primitives\nfeatures, feature_names = ft.dfs(entityset = es, target_entity = 'clients', \n                                 agg_primitives = ['mean', 'max', 'percent_true', 'last'],\n                                 trans_primitives = ['years', 'month', 'subtract', 'divide'])",
      "execution_count": null,
      "outputs": []
    },
    {
      "metadata": {
        "trusted": false,
        "_uuid": "173a193cf94b288d02ac0a2ed5e1a56bb0042a7e",
        "collapsed": true
      },
      "cell_type": "code",
      "source": "pd.DataFrame(features['MONTH(joined)'].head())",
      "execution_count": null,
      "outputs": []
    },
    {
      "metadata": {
        "trusted": false,
        "_uuid": "5c7057d3422c3f10f7c511ff9d37e52c503dc086",
        "collapsed": true
      },
      "cell_type": "code",
      "source": "pd.DataFrame(features['MEAN(payments.payment_amount)'].head())",
      "execution_count": null,
      "outputs": []
    },
    {
      "metadata": {
        "colab": {
          "autoexec": {
            "startup": false,
            "wait_interval": 0
          }
        },
        "colab_type": "code",
        "id": "2EFpoAJYezfD",
        "trusted": false,
        "_uuid": "83726bcb06908d2d9ff27db845e0c5bf1afbb600",
        "collapsed": true
      },
      "cell_type": "code",
      "source": "features.head()",
      "execution_count": null,
      "outputs": []
    },
    {
      "metadata": {
        "colab_type": "text",
        "id": "C0kKwJHQfP9J",
        "_uuid": "e605da11d1f13cbe8a1a18cc9c91abe4704205e3"
      },
      "cell_type": "markdown",
      "source": "Already we can see how useful feature tools is: it performed the same operations we did manually but also many more in addition. Examining the names of the features in the dataframe brings us to the final piece of the puzzle: deep features.\n\n## Deep Feature Synthesis\n\nWhile feature primitives are useful by themselves, the main benefit of using feature tools arises when we stack primitives to get deep features. The depth of a feature is simply the number of primitives required to make a feature. So, a feature that relies on a single aggregation would be a deep feature with a depth of 1, a feature that stacks two primitives would have a depth of 2 and so on. The idea itself is lot simpler than the name \"deep feature synthesis\" implies. (I think the authors were trying to ride the way of deep neural network hype when they named the method!) To read more about deep feature synthesis, check out [the documentation](https://docs.featuretools.com/automated_feature_engineering/afe.html) or the [original paper by Max Kanter et al](http://www.jmaxkanter.com/static/papers/DSAA_DSM_2015.pdf). \n\nAlready in the dataframe we made by specifying the primitives manually we can see the idea of feature depth. For instance, the MEAN(loans.loan_amount) feature has a depth of 1 because it is made by applying a single aggregation primitive. This feature represents the average size of a client's previous loans."
    },
    {
      "metadata": {
        "colab": {
          "autoexec": {
            "startup": false,
            "wait_interval": 0
          }
        },
        "colab_type": "code",
        "id": "HBHqFlqpgKD6",
        "trusted": false,
        "_uuid": "dac93789d6eea0456cd38e2ad184c728ef6134f1",
        "collapsed": true
      },
      "cell_type": "code",
      "source": "# Show a feature with a depth of 1\npd.DataFrame(features['MEAN(loans.loan_amount)'].head(10))",
      "execution_count": null,
      "outputs": []
    },
    {
      "metadata": {
        "colab_type": "text",
        "id": "b3FttmpFdDoo",
        "_uuid": "19f92383cede559322658956e9b3b3c9c3a7e788"
      },
      "cell_type": "markdown",
      "source": "As well scroll through the features, we see a number of features with a depth of 2. For example, the LAST(loans.(MEAN(payments.payment_amount))) has depth = 2 because it is made by stacking two feature primitives, first an aggregation and then a transformation. This feature represents the average payment amount for the last (most recent) loan for each client."
    },
    {
      "metadata": {
        "colab": {
          "autoexec": {
            "startup": false,
            "wait_interval": 0
          }
        },
        "colab_type": "code",
        "id": "xStafjwZgneQ",
        "trusted": false,
        "_uuid": "a8acf6e34d71ee443c59173c49d6f4e98000e1e1",
        "collapsed": true
      },
      "cell_type": "code",
      "source": "# Show a feature with a depth of 2\npd.DataFrame(features['LAST(loans.MEAN(payments.payment_amount))'].head(10))",
      "execution_count": null,
      "outputs": []
    },
    {
      "metadata": {
        "colab_type": "text",
        "id": "wyxx5JFph2S8",
        "_uuid": "5f883834d54e909e9b96c6b0a52da95a0ea64ee1"
      },
      "cell_type": "markdown",
      "source": "We can create features of arbitrary depth by stacking more primitives. However, when I have used feature tools I've never gone beyond a depth of 2! After this point, the features become very convoluted to understand. I'd encourage anyone interested to experiment with increasing the depth (maybe for a real problem) and see if there is value to \"going deeper\".\n\n## Automated Deep Feature Synthesis\n\nIn addition to manually specifying aggregation and transformation feature primitives, we can let feature tools automatically generate many new features. We do this by making the same `ft.dfs` function call, but without passing in any primitives. We just set the `max_depth` parameter and feature tools will automatically try many all combinations of feature primitives to the ordered depth. \n\nWhen running on large datasets, this process can take quite a while, but for our example data, it will be relatively quick. For this call, we only need to specify the `entityset`, the `target_entity` (which will again be `clients`), and the `max_depth`. "
    },
    {
      "metadata": {
        "colab": {
          "autoexec": {
            "startup": false,
            "wait_interval": 0
          }
        },
        "colab_type": "code",
        "id": "iKQx-y2mgv_x",
        "trusted": false,
        "collapsed": true,
        "_uuid": "6dcbe10d367afe6f4b7bd81a7b072e1d29344444"
      },
      "cell_type": "code",
      "source": "# Perform deep feature synthesis without specifying primitives\nfeatures, feature_names = ft.dfs(entityset=es, target_entity='clients', \n                                 max_depth = 2)",
      "execution_count": null,
      "outputs": []
    },
    {
      "metadata": {
        "colab": {
          "autoexec": {
            "startup": false,
            "wait_interval": 0
          }
        },
        "colab_type": "code",
        "id": "H-CsAUe6jS0F",
        "trusted": false,
        "_uuid": "db429caeaaae7c3a9301155b5f64692727385950",
        "collapsed": true
      },
      "cell_type": "code",
      "source": "features.iloc[:, 4:].head()",
      "execution_count": null,
      "outputs": []
    },
    {
      "metadata": {
        "colab_type": "text",
        "id": "s3cOoBMakhx8",
        "_uuid": "004614bf25397beff3a4612c6f449765e47b54de"
      },
      "cell_type": "markdown",
      "source": "Deep feature synthesis has created 90 new features out of the existing data! While we could have created all of these manually, I am glad to not have to write all that code by hand. The primary benefit of feature tools is that it creates features without any subjective human biases. Even a human with considerable domain knowledge will be limited by their imagination when making new features (not to mention time). Automated feature engineering is not limited by these factors (instead it's limited by computation time) and provides a good starting point for feature creation. This process likely will not remove the human contribution to feature engineering completely because a human can still use domain knowledge and machine learning expertise to select the most important features or build new features from those suggested by automated deep feature synthesis.\n\n# Next Steps\n\nWhile automatic feature engineering solves one problem, it provides us with another problem: too many features! Although it's difficult to say which features will be important to a given machine learning task ahead of time, it's likely that not all of the features made by feature tools add value. In fact, having too many features is a significant issue in machine learning because it makes training a model much harder. The [irrelevant features can drown out the important features](https://pdfs.semanticscholar.org/a83b/ddb34618cc68f1014ca12eef7f537825d104.pdf), leaving a model unable to learn how to map the features to the target.\n\nThis problem is known as the [\"curse of dimensionality\"](https://en.wikipedia.org/wiki/Curse_of_dimensionality#Machine_learning) and is addressed through the process of [feature reduction and selection](http://scikit-learn.org/stable/modules/feature_selection.html), which means [removing low-value features](https://machinelearningmastery.com/feature-selection-machine-learning-python/) from the data. Defining which features are useful is an important problem where a data scientist can still add considerable value to the feature engineering task. Feature reduction will have to be another topic for another day!"
    },
    {
      "metadata": {
        "colab_type": "text",
        "id": "jbjt01ADmEdX",
        "_uuid": "345cea321f6d7a6f5089c4bae5413df04e065eec"
      },
      "cell_type": "markdown",
      "source": "# Conclusions\n\nIn this notebook, we saw how to apply automated feature engineering to an example dataset. This is a powerful method which allows us to overcome the human limits of time and imagination to create many new features from multiple tables of data. Feature tools is built on the idea of deep feature synthesis, which means stacking multiple simple feature primitives - __aggregations and transformations__ - to create new features. Feature engineering allows us to combine information across many tables into a single dataframe that we can then use for machine learning model training. Finally, the next step after creating all of these features is figuring out which ones are important. \n\nFeature tools is currently the only Python option for this process, but with the recent emphasis on automating aspects of the machine learning pipeline, other competitiors will probably enter the sphere. While the exact tools will change, the idea of automatically creating new features out of existing data will grow in importance. Staying up-to-date on methods such as automated feature engineering is crucial in the rapidly changing field of data science. Now go out there and find a problem on which to apply feature tools! \n\nFor more information, check out the [documentation for feature tools](https://docs.featuretools.com/index.html). Also, read about how feature tools is [used in the real world by Feature Labs](https://www.featurelabs.com/), the company behind the open-source library."
    },
    {
      "metadata": {
        "trusted": false,
        "collapsed": true,
        "_uuid": "d6494453e72f60c1225adee7e71280bae4ebd5b3"
      },
      "cell_type": "code",
      "source": "",
      "execution_count": null,
      "outputs": []
    }
  ],
  "metadata": {
    "colab": {
      "default_view": {},
      "name": "Automated Feature Engineering.ipynb",
      "private_outputs": true,
      "provenance": [],
      "version": "0.3.2",
      "views": {}
    },
    "kernelspec": {
      "display_name": "Python 3",
      "language": "python",
      "name": "python3"
    },
    "language_info": {
      "name": "python",
      "version": "3.6.5",
      "mimetype": "text/x-python",
      "codemirror_mode": {
        "name": "ipython",
        "version": 3
      },
      "pygments_lexer": "ipython3",
      "nbconvert_exporter": "python",
      "file_extension": ".py"
    }
  },
  "nbformat": 4,
  "nbformat_minor": 1
}